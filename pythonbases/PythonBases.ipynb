{
 "cells": [
  {
   "cell_type": "markdown",
   "metadata": {},
   "source": [
    "# Introducción a Python para Ciencias Cognitivas"
   ]
  },
  {
   "cell_type": "markdown",
   "metadata": {},
   "source": [
    "## ¿Qué es Python?"
   ]
  },
  {
   "cell_type": "markdown",
   "metadata": {},
   "source": [
    "Python es un lenguaje de programación, de código abierto y de fácil sintaxis. Se puede realizar programación orientada a objetos, así como programación funcional."
   ]
  },
  {
   "cell_type": "markdown",
   "metadata": {},
   "source": [
    "En este pre-taller se estudiarán los elementos básicos del lenguaje Python y se mostrarán varios ejemplos que nos permitirán contar con los fundamentos para las actividades que se realizarán durante el MCRA-2018. Existen varios tutoriales<sup>1</sup> y libros<sup>2</sup> que se pueden consultar para mayor información.\n",
    "<sup>1</sup>https://www.python.org/\n",
    "<sup>2</sup>Eric Matthes. Python Crash Course: A Hands-On, Project-Based Introduction to Programming"
   ]
  },
  {
   "cell_type": "markdown",
   "metadata": {},
   "source": [
    "### Variables y Strings"
   ]
  },
  {
   "cell_type": "markdown",
   "metadata": {},
   "source": [
    "Existen estructuras que permiten almacenar valores, ya sea numéricos o de caracteres. Estos se conoces como variables y strings."
   ]
  },
  {
   "cell_type": "code",
   "execution_count": 1,
   "metadata": {},
   "outputs": [
    {
     "name": "stdout",
     "output_type": "stream",
     "text": [
      "Hola Mundo\n"
     ]
    }
   ],
   "source": [
    "print(\"Hola Mundo\") # los caracteres están rodeados por comillas o por apostrofes (comilla simple)"
   ]
  },
  {
   "cell_type": "code",
   "execution_count": 2,
   "metadata": {},
   "outputs": [
    {
     "name": "stdout",
     "output_type": "stream",
     "text": [
      "Hola Mundo\n"
     ]
    }
   ],
   "source": [
    "mensaje = \"Hola Mundo\" # se puede construir de usando variables\n",
    "print(mensaje)"
   ]
  },
  {
   "cell_type": "markdown",
   "metadata": {},
   "source": [
    "Se pueden construir a partir del proceso de concatenación (combinar strings)"
   ]
  },
  {
   "cell_type": "code",
   "execution_count": 5,
   "metadata": {},
   "outputs": [
    {
     "name": "stdout",
     "output_type": "stream",
     "text": [
      "Procesos Cognitivos\n"
     ]
    }
   ],
   "source": [
    "primer_nombre = 'Procesos'\n",
    "apellidos = 'Cognitivos'\n",
    "nombre_completo = primer_nombre + ' ' + apellidos\n",
    "print(nombre_completo)"
   ]
  },
  {
   "cell_type": "markdown",
   "metadata": {},
   "source": [
    "### Listas"
   ]
  },
  {
   "cell_type": "markdown",
   "metadata": {},
   "source": [
    "También existe un tipo de estructura en la que se pueden almacenar objetos con un orden en particular. Se puede tener acceso a estos elementos por medio de indices o a través de lazos (ordenes de Loop)."
   ]
  },
  {
   "cell_type": "code",
   "execution_count": 6,
   "metadata": {},
   "outputs": [],
   "source": [
    "psicologia = ['clinica', 'educativa', 'social', 'organizacional'] # esta es una lista"
   ]
  },
  {
   "cell_type": "code",
   "execution_count": 8,
   "metadata": {},
   "outputs": [
    {
     "name": "stdout",
     "output_type": "stream",
     "text": [
      "clinica\n"
     ]
    }
   ],
   "source": [
    "area_uno = psicologia[0] # python cuenta los elementos comenzando en 0\n",
    "print(area_uno)"
   ]
  },
  {
   "cell_type": "code",
   "execution_count": 9,
   "metadata": {},
   "outputs": [
    {
     "name": "stdout",
     "output_type": "stream",
     "text": [
      "social\n"
     ]
    }
   ],
   "source": [
    "area_tres = psicologia[2]\n",
    "print(area_tres)"
   ]
  },
  {
   "cell_type": "code",
   "execution_count": 11,
   "metadata": {},
   "outputs": [
    {
     "name": "stdout",
     "output_type": "stream",
     "text": [
      "clinica\n",
      "educativa\n",
      "social\n",
      "organizacional\n"
     ]
    }
   ],
   "source": [
    "for area in psicologia: # aquí el for es un condicional 'para' y es importante no olvidar los : al final.\n",
    "    print(area)"
   ]
  },
  {
   "cell_type": "markdown",
   "metadata": {},
   "source": [
    "Podemos modificar los elementos de una lista."
   ]
  },
  {
   "cell_type": "code",
   "execution_count": 12,
   "metadata": {},
   "outputs": [],
   "source": [
    "psicologia[1] = 'cognitiva'"
   ]
  },
  {
   "cell_type": "code",
   "execution_count": 13,
   "metadata": {},
   "outputs": [
    {
     "data": {
      "text/plain": [
       "['clinica', 'cognitiva', 'social', 'organizacional']"
      ]
     },
     "execution_count": 13,
     "metadata": {},
     "output_type": "execute_result"
    }
   ],
   "source": [
    "psicologia"
   ]
  },
  {
   "cell_type": "markdown",
   "metadata": {},
   "source": [
    "Podemos añadir elementos a una lista."
   ]
  },
  {
   "cell_type": "code",
   "execution_count": 14,
   "metadata": {},
   "outputs": [
    {
     "data": {
      "text/plain": [
       "['clinica', 'cognitiva', 'social', 'organizacional', 'matematica']"
      ]
     },
     "execution_count": 14,
     "metadata": {},
     "output_type": "execute_result"
    }
   ],
   "source": [
    "psicologia.append('matematica')\n",
    "psicologia"
   ]
  },
  {
   "cell_type": "markdown",
   "metadata": {},
   "source": [
    "Si se empieza con una lista vacia:"
   ]
  },
  {
   "cell_type": "code",
   "execution_count": 15,
   "metadata": {},
   "outputs": [
    {
     "data": {
      "text/plain": [
       "['clinica', 'educativa', 'social', 'organizacional']"
      ]
     },
     "execution_count": 15,
     "metadata": {},
     "output_type": "execute_result"
    }
   ],
   "source": [
    "areas = []\n",
    "areas.append('clinica')\n",
    "areas.append('educativa')\n",
    "areas.append('social')\n",
    "areas.append('organizacional')\n",
    "areas"
   ]
  },
  {
   "cell_type": "markdown",
   "metadata": {},
   "source": [
    "Se pueden incluir elementos en diferentes posiciones"
   ]
  },
  {
   "cell_type": "code",
   "execution_count": 16,
   "metadata": {},
   "outputs": [
    {
     "data": {
      "text/plain": [
       "['clinica', 'cognitiva', 'educativa', 'social', 'organizacional']"
      ]
     },
     "execution_count": 16,
     "metadata": {},
     "output_type": "execute_result"
    }
   ],
   "source": [
    "areas.insert(1, 'cognitiva')\n",
    "areas"
   ]
  },
  {
   "cell_type": "markdown",
   "metadata": {},
   "source": [
    "Y se pueden quitar elementos:"
   ]
  },
  {
   "cell_type": "code",
   "execution_count": 17,
   "metadata": {},
   "outputs": [
    {
     "data": {
      "text/plain": [
       "['clinica', 'cognitiva', 'educativa', 'social']"
      ]
     },
     "execution_count": 17,
     "metadata": {},
     "output_type": "execute_result"
    }
   ],
   "source": [
    "areas.remove('organizacional')\n",
    "areas"
   ]
  },
  {
   "cell_type": "code",
   "execution_count": 21,
   "metadata": {},
   "outputs": [
    {
     "name": "stdout",
     "output_type": "stream",
     "text": [
      "En la facultad de psicologia se tienen 4 areas.\n"
     ]
    }
   ],
   "source": [
    "no_areas = len(areas)\n",
    "print('En la facultad de psicologia se tienen ' + str(no_areas) + ' areas.' )"
   ]
  },
  {
   "cell_type": "code",
   "execution_count": 22,
   "metadata": {},
   "outputs": [
    {
     "name": "stdout",
     "output_type": "stream",
     "text": [
      "Hay investigacion en el area clinica.\n",
      "Hay investigacion en el area cognitiva.\n",
      "Hay investigacion en el area educativa.\n",
      "Hay investigacion en el area social.\n",
      "Bienvenidas todas las investigaciones.\n",
      "Psicologia Matematica si es psicologia.\n"
     ]
    }
   ],
   "source": [
    "for area in areas:\n",
    "    print('Hay investigacion en el area ' + area + '.')\n",
    "    \n",
    "print('Bienvenidas todas las investigaciones.')\n",
    "print('Psicologia Matematica si es psicologia.')"
   ]
  },
  {
   "cell_type": "code",
   "execution_count": 23,
   "metadata": {},
   "outputs": [
    {
     "data": {
      "text/plain": [
       "[1, 8, 27, 64, 125, 216, 343, 512]"
      ]
     },
     "execution_count": 23,
     "metadata": {},
     "output_type": "execute_result"
    }
   ],
   "source": [
    "cubos = []\n",
    "for x in range(1,9):  # la funcion range se usa para trabajar con un conjunto de valores en especifico, por defecto\n",
    "    cubos.append(x**3)# la funcion range comienza en 0 y termina un numero antes del limite superior\n",
    "    \n",
    "cubos"
   ]
  },
  {
   "cell_type": "code",
   "execution_count": 28,
   "metadata": {},
   "outputs": [],
   "source": [
    "cubos = [x**3 for x in range(1,9)] # se puede hacer de otra maner usando List Comprehensions"
   ]
  },
  {
   "cell_type": "code",
   "execution_count": 26,
   "metadata": {},
   "outputs": [
    {
     "name": "stdout",
     "output_type": "stream",
     "text": [
      "0\n",
      "1\n",
      "2\n",
      "3\n",
      "4\n"
     ]
    }
   ],
   "source": [
    "for numero in range(5):\n",
    "    print(numero)"
   ]
  },
  {
   "cell_type": "code",
   "execution_count": 27,
   "metadata": {},
   "outputs": [
    {
     "name": "stdout",
     "output_type": "stream",
     "text": [
      "1\n",
      "2\n",
      "3\n",
      "4\n",
      "5\n"
     ]
    }
   ],
   "source": [
    "for numero in range(1,6):\n",
    "    print(numero)"
   ]
  },
  {
   "cell_type": "code",
   "execution_count": 30,
   "metadata": {},
   "outputs": [
    {
     "data": {
      "text/plain": [
       "23"
      ]
     },
     "execution_count": 30,
     "metadata": {},
     "output_type": "execute_result"
    }
   ],
   "source": [
    "edades = [24,65,76,34,54,23,78,54,34,67,23]\n",
    "mas_joven = min(edades)\n",
    "mas_grande = max(edades)\n",
    "total_edades = sum(edades)\n",
    "mas_joven"
   ]
  },
  {
   "cell_type": "markdown",
   "metadata": {},
   "source": [
    "Una tupla es similar a una lista pero sus elementos no se pueden modificar:"
   ]
  },
  {
   "cell_type": "code",
   "execution_count": 31,
   "metadata": {},
   "outputs": [
    {
     "data": {
      "text/plain": [
       "(300, 400)"
      ]
     },
     "execution_count": 31,
     "metadata": {},
     "output_type": "execute_result"
    }
   ],
   "source": [
    "dimensiones = (300,400)\n",
    "dimensiones"
   ]
  },
  {
   "cell_type": "markdown",
   "metadata": {},
   "source": [
    "### Diccionarios"
   ]
  },
  {
   "cell_type": "markdown",
   "metadata": {},
   "source": [
    "En python uno puede generar sus propios diccionarios el cual nos permite relacionar información. Cada información se almacena con una clave. "
   ]
  },
  {
   "cell_type": "code",
   "execution_count": 32,
   "metadata": {},
   "outputs": [
    {
     "name": "stdout",
     "output_type": "stream",
     "text": [
      "basica\n",
      "4\n"
     ]
    }
   ],
   "source": [
    "cognitiva = {'area':'basica','investigaciones':4}\n",
    "print(cognitiva['area'])\n",
    "print(cognitiva['investigaciones'])"
   ]
  },
  {
   "cell_type": "code",
   "execution_count": 34,
   "metadata": {},
   "outputs": [
    {
     "name": "stdout",
     "output_type": "stream",
     "text": [
      "La investigación en psicologia cognitiva es basica.\n"
     ]
    }
   ],
   "source": [
    "print('La investigación en psicologia cognitiva es ' + cognitiva['area'] + '.')"
   ]
  },
  {
   "cell_type": "markdown",
   "metadata": {},
   "source": [
    "### Entrada por parte del usuario"
   ]
  },
  {
   "cell_type": "code",
   "execution_count": 35,
   "metadata": {},
   "outputs": [
    {
     "name": "stdout",
     "output_type": "stream",
     "text": [
      "¿Cual es su nombre? Alfonso\n",
      "Hola Alfonso.\n"
     ]
    }
   ],
   "source": [
    "nombre = input(\"¿Cual es su nombre? \")\n",
    "print(\"Hola \" + nombre + '.')"
   ]
  },
  {
   "cell_type": "code",
   "execution_count": 38,
   "metadata": {},
   "outputs": [
    {
     "name": "stdout",
     "output_type": "stream",
     "text": [
      "¿Que edad tiene?35\n",
      "¡Tiene 35!, ¡Que joven se ve!\n"
     ]
    }
   ],
   "source": [
    "edad = input('¿Que edad tiene?')\n",
    "edad = int(edad)\n",
    "print('¡Tiene ' + str(edad) + '!, ¡Que joven se ve!')"
   ]
  },
  {
   "cell_type": "code",
   "execution_count": 39,
   "metadata": {},
   "outputs": [
    {
     "name": "stdout",
     "output_type": "stream",
     "text": [
      "¿Cual es el valor de pi?3.1416\n"
     ]
    },
    {
     "data": {
      "text/plain": [
       "3.1416"
      ]
     },
     "execution_count": 39,
     "metadata": {},
     "output_type": "execute_result"
    }
   ],
   "source": [
    "pi = input('¿Cual es el valor de pi?')\n",
    "pi = float(pi)\n",
    "pi"
   ]
  },
  {
   "cell_type": "markdown",
   "metadata": {},
   "source": [
    "### Declaraciones *if* y *while*"
   ]
  },
  {
   "cell_type": "markdown",
   "metadata": {},
   "source": [
    "#### Pruebas condicionales"
   ]
  },
  {
   "cell_type": "markdown",
   "metadata": {},
   "source": [
    "Para las pruebas condicionales se tiene que tomar en cuenta lo siguiente:\n",
    "* igualdad x == 42\n",
    "* no igualdad x != 42\n",
    "* mayor que x > 42; mayor o igual que x >= 42\n",
    "* menor que x < 42; menor o igual que x <= 42"
   ]
  },
  {
   "cell_type": "code",
   "execution_count": 40,
   "metadata": {},
   "outputs": [
    {
     "data": {
      "text/plain": [
       "True"
      ]
     },
     "execution_count": 40,
     "metadata": {},
     "output_type": "execute_result"
    }
   ],
   "source": [
    "area = 'clinica'\n",
    "area == 'clinica'"
   ]
  },
  {
   "cell_type": "code",
   "execution_count": 41,
   "metadata": {},
   "outputs": [
    {
     "data": {
      "text/plain": [
       "False"
      ]
     },
     "execution_count": 41,
     "metadata": {},
     "output_type": "execute_result"
    }
   ],
   "source": [
    "area == 'cognitiva'"
   ]
  },
  {
   "cell_type": "code",
   "execution_count": 42,
   "metadata": {},
   "outputs": [
    {
     "data": {
      "text/plain": [
       "True"
      ]
     },
     "execution_count": 42,
     "metadata": {},
     "output_type": "execute_result"
    }
   ],
   "source": [
    "'social' in areas"
   ]
  },
  {
   "cell_type": "code",
   "execution_count": 47,
   "metadata": {},
   "outputs": [
    {
     "data": {
      "text/plain": [
       "True"
      ]
     },
     "execution_count": 47,
     "metadata": {},
     "output_type": "execute_result"
    }
   ],
   "source": [
    "edad = 22\n",
    "edad == 22"
   ]
  },
  {
   "cell_type": "code",
   "execution_count": 45,
   "metadata": {},
   "outputs": [
    {
     "data": {
      "text/plain": [
       "True"
      ]
     },
     "execution_count": 45,
     "metadata": {},
     "output_type": "execute_result"
    }
   ],
   "source": [
    "edad <= 25"
   ]
  },
  {
   "cell_type": "code",
   "execution_count": 48,
   "metadata": {},
   "outputs": [
    {
     "name": "stdout",
     "output_type": "stream",
     "text": [
      "Tienes la edad para votar este primero de julio\n"
     ]
    }
   ],
   "source": [
    "edad = 22\n",
    "if edad >= 18:\n",
    "    print(\"Tienes la edad para votar este primero de julio\")"
   ]
  },
  {
   "cell_type": "code",
   "execution_count": 49,
   "metadata": {},
   "outputs": [
    {
     "name": "stdout",
     "output_type": "stream",
     "text": [
      "Aun no puedes votar, y no deberias odiar a ningun candidato\n"
     ]
    }
   ],
   "source": [
    "edad = 15\n",
    "if edad >= 18:\n",
    "    print(\"Tienes la edad para votar este primero de julio\")\n",
    "else:\n",
    "    print(\"Aun no puedes votar, y no deberias odiar a ningun candidato\")"
   ]
  },
  {
   "cell_type": "code",
   "execution_count": 51,
   "metadata": {},
   "outputs": [
    {
     "name": "stdout",
     "output_type": "stream",
     "text": [
      "El costo de su boleto es: $10.\n"
     ]
    }
   ],
   "source": [
    "edad = 10\n",
    "if edad < 3:\n",
    "    price = 0\n",
    "elif edad < 18:\n",
    "    price = 10\n",
    "else: \n",
    "    price = 20\n",
    "    \n",
    "print(\"El costo de su boleto es: $\" + str(price) + '.')"
   ]
  },
  {
   "cell_type": "code",
   "execution_count": 53,
   "metadata": {},
   "outputs": [
    {
     "name": "stdout",
     "output_type": "stream",
     "text": [
      "¿Cual es su edad?35\n",
      "El costo de su boleto es: $20.\n"
     ]
    }
   ],
   "source": [
    "edad = input('¿Cual es su edad?')\n",
    "edad = int(edad)\n",
    "if edad < 3:\n",
    "    price = 0\n",
    "elif edad < 18:\n",
    "    price = 10\n",
    "else: \n",
    "    price = 20\n",
    "    \n",
    "print(\"El costo de su boleto es: $\" + str(price) + '.')"
   ]
  },
  {
   "cell_type": "code",
   "execution_count": 55,
   "metadata": {},
   "outputs": [
    {
     "name": "stdout",
     "output_type": "stream",
     "text": [
      "1\n",
      "2\n",
      "3\n"
     ]
    }
   ],
   "source": [
    "valor_actual = 1\n",
    "while valor_actual <= 3:\n",
    "    print(valor_actual)\n",
    "    valor_actual += 1           # tratar de evitar los condicionales while"
   ]
  },
  {
   "cell_type": "markdown",
   "metadata": {},
   "source": [
    "### Funciones"
   ]
  },
  {
   "cell_type": "markdown",
   "metadata": {},
   "source": [
    "Las funciones son bloques de código que se contruyen para realizar un trabajo específico o particular. Las funciones hacen el código más eficiente. La información que se inyecta a la función se conoce como argumento de la función y la información recibida por la función se le llama parámetro."
   ]
  },
  {
   "cell_type": "code",
   "execution_count": 56,
   "metadata": {},
   "outputs": [
    {
     "name": "stdout",
     "output_type": "stream",
     "text": [
      "¡Hola!\n"
     ]
    }
   ],
   "source": [
    "def saludo_usr():\n",
    "    \"\"\"Nos muestra un saludo simple\"\"\"\n",
    "    print('¡Hola!')\n",
    "\n",
    "saludo_usr()"
   ]
  },
  {
   "cell_type": "code",
   "execution_count": 1,
   "metadata": {},
   "outputs": [
    {
     "name": "stdout",
     "output_type": "stream",
     "text": [
      "¡Hola Alfonso!\n"
     ]
    }
   ],
   "source": [
    "def saludo_usr(nombre):\n",
    "    \"\"\"Nos muestra un saludo personalizado\"\"\"\n",
    "    print(\"¡Hola \" + nombre + '!')\n",
    "    \n",
    "saludo_usr('Alfonso')"
   ]
  },
  {
   "cell_type": "code",
   "execution_count": 3,
   "metadata": {},
   "outputs": [
    {
     "name": "stdout",
     "output_type": "stream",
     "text": [
      "Comamos una ensalada con aderezo ranch.\n",
      "Comamos una ensalada con aderezo cesar.\n"
     ]
    }
   ],
   "source": [
    "def hacer_ensalada(aderezo = 'ranch'):\n",
    "    \"\"\"Hacer una ensalada con un cierto tipo de aderezo\"\"\"\n",
    "    print('Comamos una ensalada con aderezo ' + aderezo + '.')\n",
    "    \n",
    "hacer_ensalada()\n",
    "hacer_ensalada('cesar')"
   ]
  },
  {
   "cell_type": "code",
   "execution_count": 4,
   "metadata": {},
   "outputs": [
    {
     "name": "stdout",
     "output_type": "stream",
     "text": [
      "8\n"
     ]
    }
   ],
   "source": [
    "# podemos construir una calculadora\n",
    "def suma_numeros(x, y):\n",
    "    \"\"\"Suma dos numeros y nos regresa la suma\"\"\"\n",
    "    return x + y\n",
    "\n",
    "suma = suma_numeros(3,5)\n",
    "print(suma)"
   ]
  },
  {
   "cell_type": "markdown",
   "metadata": {},
   "source": [
    "Podemos usar modulos para eficientar el código. Se pueden definir las funciones en modulos que tendrán terminanción .py"
   ]
  },
  {
   "cell_type": "code",
   "execution_count": 10,
   "metadata": {},
   "outputs": [
    {
     "name": "stdout",
     "output_type": "stream",
     "text": [
      "Una ensalada con aderezo cesar.\n",
      "Crocantes:\n",
      "- pan tostado\n",
      "Una ensalada con aderezo ranch.\n",
      "Crocantes:\n",
      "- tocino frito\n",
      "- cacahuantes\n"
     ]
    }
   ],
   "source": [
    "import ensaladas\n",
    "\n",
    "ensaladas.hacer_ensalada('cesar','pan tostado')\n",
    "ensaladas.hacer_ensalada('ranch', 'tocino frito', 'cacahuantes')"
   ]
  },
  {
   "cell_type": "code",
   "execution_count": 11,
   "metadata": {},
   "outputs": [
    {
     "name": "stdout",
     "output_type": "stream",
     "text": [
      "Una ensalada con aderezo vinagreta.\n",
      "Crocantes:\n",
      "- pepitas\n"
     ]
    }
   ],
   "source": [
    "from ensaladas import hacer_ensalada\n",
    "hacer_ensalada('vinagreta','pepitas')"
   ]
  },
  {
   "cell_type": "code",
   "execution_count": 12,
   "metadata": {},
   "outputs": [
    {
     "name": "stdout",
     "output_type": "stream",
     "text": [
      "Una ensalada con aderezo mostaza dulce.\n",
      "Crocantes:\n",
      "- coco rayado\n"
     ]
    }
   ],
   "source": [
    "import ensaladas as ens # usando un alias para el modulo\n",
    "ens.hacer_ensalada('mostaza dulce','coco rayado')"
   ]
  },
  {
   "cell_type": "code",
   "execution_count": 13,
   "metadata": {},
   "outputs": [
    {
     "name": "stdout",
     "output_type": "stream",
     "text": [
      "Una ensalada con aderezo agridulce.\n",
      "Crocantes:\n",
      "- nuez\n"
     ]
    }
   ],
   "source": [
    "from ensaladas import hacer_ensalada as he  # usando un alias para la funcion\n",
    "he('agridulce','nuez')"
   ]
  },
  {
   "cell_type": "markdown",
   "metadata": {},
   "source": [
    "### Clases"
   ]
  },
  {
   "cell_type": "markdown",
   "metadata": {},
   "source": [
    "Cuando se realiza programación orientada a objetos las clases son fundamentales. Las clases sirven para representar cosas del mundo real las cuales se desean modelar en el programa, por ejemplo, perros, casas, etc. \n",
    "La clase define el comportamiento de un objeto y la clase de información que un objeto puede guardar. "
   ]
  },
  {
   "cell_type": "markdown",
   "metadata": {},
   "source": [
    "Vamos a crear la clase tesis "
   ]
  },
  {
   "cell_type": "code",
   "execution_count": 1,
   "metadata": {},
   "outputs": [],
   "source": [
    "class tesis():\n",
    "    \"\"\"Un intento por modelar una tesis\"\"\"\n",
    "    \n",
    "    def __init__(self,tipo,periodo,idioma):\n",
    "        \"\"\"Inicializa los atributos de la tesis\"\"\"\n",
    "        self.tipo = tipo\n",
    "        self.periodo = periodo\n",
    "        self.idioma = idioma\n",
    "        \n",
    "        # numero de capitulos y capitulos escritos\n",
    "        self.capitulos_numero = 8\n",
    "        self.escritos_tesis = 0\n",
    "        \n",
    "    def capitulos_tesis(self):\n",
    "        \"\"\"LLenar la tesis con los capitulos\"\"\"\n",
    "        self.escritos_tesis = self.capitulos_numero\n",
    "        print(\"La tesis esta escrita\")\n",
    "        \n",
    "    def presentar(self):\n",
    "        \"\"\"Simula la presentación de la tesis\"\"\"\n",
    "        print(\"Se esta defendiendo la tesis\")\n",
    "        "
   ]
  },
  {
   "cell_type": "code",
   "execution_count": 3,
   "metadata": {},
   "outputs": [
    {
     "name": "stdout",
     "output_type": "stream",
     "text": [
      "Realizare una tesis cuantitativa en el 2018 en espanol\n"
     ]
    }
   ],
   "source": [
    "my_thesis = tesis('cuantitativa',2018,'espanol')\n",
    "print('Realizare una tesis ' + my_thesis.tipo + ' en el ' + str(my_thesis.periodo) + ' en ' + my_thesis.idioma)"
   ]
  },
  {
   "cell_type": "markdown",
   "metadata": {},
   "source": [
    "### Matplotlib"
   ]
  },
  {
   "cell_type": "markdown",
   "metadata": {},
   "source": [
    "Podemos representar graficamente los datos. El paquete que usamos para visualizar en Python es matplotlib. Este es un programa muy flexible. "
   ]
  },
  {
   "cell_type": "code",
   "execution_count": 4,
   "metadata": {},
   "outputs": [],
   "source": [
    "import matplotlib.pyplot as plt"
   ]
  },
  {
   "cell_type": "code",
   "execution_count": 5,
   "metadata": {},
   "outputs": [
    {
     "data": {
      "image/png": "[encoded data removed]",
      "text/plain": [
       "<Figure size 432x288 with 1 Axes>"
      ]
     },
     "metadata": {},
     "output_type": "display_data"
    }
   ],
   "source": [
    "x_valores = [0,1,2,3,4,5]\n",
    "cuadrados = [0,1,4,9,16,25]\n",
    "plt.plot(x_valores,cuadrados)\n",
    "plt.show()"
   ]
  },
  {
   "cell_type": "code",
   "execution_count": 14,
   "metadata": {},
   "outputs": [
    {
     "data": {
      "image/png": "[encoded data removed]",
      "text/plain": [
       "<Figure size 432x288 with 1 Axes>"
      ]
     },
     "metadata": {},
     "output_type": "display_data"
    }
   ],
   "source": [
    "import matplotlib.pyplot as plt\n",
    "x_valores = list(range(100))\n",
    "cubos = [x**3 for x in x_valores]\n",
    "plt.scatter(x_valores,cubos,s=10) # genera un plot de dispersion con \n",
    "plt.show()                            # s = 10 el tamano del punto"
   ]
  },
  {
   "cell_type": "code",
   "execution_count": 15,
   "metadata": {},
   "outputs": [
    {
     "data": {
      "image/png": "[encoded data removed]",
      "text/plain": [
       "<Figure size 432x288 with 1 Axes>"
      ]
     },
     "metadata": {},
     "output_type": "display_data"
    }
   ],
   "source": [
    "import matplotlib.pyplot as plt\n",
    "x_valores = list(range(100))\n",
    "cubos = [x**3 for x in x_valores]\n",
    "plt.scatter(x_valores,cubos, s=10)\n",
    "\n",
    "plt.title(\"Numeros al cubo\",fontsize=24)\n",
    "plt.xlabel(\"Valor\", fontsize=18)\n",
    "plt.ylabel(\"Cubos del valor\", fontsize=18)\n",
    "plt.tick_params(axis='both',which='major',labelsize=14)\n",
    "\n",
    "plt.axis([0,110,0,110000])\n",
    "\n",
    "plt.show()"
   ]
  },
  {
   "cell_type": "code",
   "execution_count": 16,
   "metadata": {},
   "outputs": [
    {
     "data": {
      "text/plain": [
       "<matplotlib.collections.PathCollection at 0x19f3f61d940>"
      ]
     },
     "execution_count": 16,
     "metadata": {},
     "output_type": "execute_result"
    },
    {
     "data": {
      "image/png": "[encoded data removed]",
      "text/plain": [
       "<Figure size 432x288 with 1 Axes>"
      ]
     },
     "metadata": {},
     "output_type": "display_data"
    }
   ],
   "source": [
    "plt.scatter(x_valores,cubos,c=cubos,cmap=plt.cm.Blues,edgecolor='none',s=10)"
   ]
  },
  {
   "cell_type": "code",
   "execution_count": 17,
   "metadata": {},
   "outputs": [
    {
     "data": {
      "image/png": "[encoded data removed]",
      "text/plain": [
       "<Figure size 432x288 with 1 Axes>"
      ]
     },
     "metadata": {},
     "output_type": "display_data"
    }
   ],
   "source": [
    "import matplotlib\n",
    "import matplotlib.pyplot as plt\n",
    "import numpy as np  # libreria para calculos numéricos\n",
    "\n",
    "# los datos para ser graficados\n",
    "t = np.arange(0.0, 2.0, 0.01)\n",
    "s = 1 + np.sin(2 * np.pi * t)\n",
    "\n",
    "fig, ax = plt.subplots()\n",
    "ax.plot(t, s)\n",
    "\n",
    "ax.set(xlabel='tiempo (s)', ylabel='voltaje (mV)',\n",
    "       title='Comparacion de voltaje')\n",
    "ax.grid()\n",
    "\n",
    "# fig.savefig(\"test.png\")\n",
    "plt.show()"
   ]
  },
  {
   "cell_type": "markdown",
   "metadata": {},
   "source": [
    "## Conclusiones"
   ]
  },
  {
   "cell_type": "markdown",
   "metadata": {},
   "source": [
    "Hay que practicar mucho!!!"
   ]
  },
  {
   "cell_type": "code",
   "execution_count": null,
   "metadata": {},
   "outputs": [],
   "source": []
  }
 ],
 "metadata": {
  "kernelspec": {
   "display_name": "Python 3",
   "language": "python",
   "name": "python3"
  },
  "language_info": {
   "codemirror_mode": {
    "name": "ipython",
    "version": 3
   },
   "file_extension": ".py",
   "mimetype": "text/x-python",
   "name": "python",
   "nbconvert_exporter": "python",
   "pygments_lexer": "ipython3",
   "version": "3.6.5"
  }
 },
 "nbformat": 4,
 "nbformat_minor": 2
}
